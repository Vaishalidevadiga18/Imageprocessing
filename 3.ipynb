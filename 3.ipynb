{
 "cells": [
  {
   "cell_type": "code",
   "execution_count": null,
   "metadata": {},
   "outputs": [
    {
     "name": "stdout",
     "output_type": "stream",
     "text": [
      "Processed images saved successfully!\n"
     ]
    }
   ],
   "source": [
    "import cv2\n",
    "import numpy as np\n",
    "\n",
    "def load_image(path):\n",
    "    image = cv2.imread(path, cv2.IMREAD_GRAYSCALE)\n",
    "    if image is None:\n",
    "        print(\"Error: Could not load image\")\n",
    "        exit()\n",
    "    return image\n",
    "\n",
    "def apply_sobel(image):\n",
    "    sobelx = cv2.Sobel(image, cv2.CV_64F, 1, 0, ksize=3)\n",
    "    sobely = cv2.Sobel(image, cv2.CV_64F, 0, 1, ksize=3)\n",
    "    sobel_combined = cv2.magnitude(sobelx, sobely)\n",
    "    return sobel_combined\n",
    "\n",
    "def apply_laplacian(image):\n",
    "    laplacian = cv2.Laplacian(image, cv2.CV_64F)\n",
    "    return laplacian\n",
    "\n",
    "def apply_canny(image, threshold1, threshold2):\n",
    "    canny_edges = cv2.Canny(image, threshold1, threshold2)\n",
    "    return canny_edges\n",
    "\n",
    "def main():\n",
    "    image_path = input(\"Enter the image path: \")\n",
    "    image = load_image(image_path)\n",
    "\n",
    "    sobel_edges = apply_sobel(image)\n",
    "    laplacian_edges = apply_laplacian(image)\n",
    "    canny_edges = apply_canny(image, 100, 200)\n",
    "\n",
    "    cv2.imshow('Original Image', image)\n",
    "    cv2.imshow('Sobel Edges', np.uint8(sobel_edges))\n",
    "    cv2.imshow('Laplacian Edges', np.uint8(laplacian_edges))\n",
    "    cv2.imshow('Canny Edges', canny_edges)\n",
    "\n",
    "    save_option = input(\"Do you want to save the processed images? (yes/no): \").strip().lower()\n",
    "    if save_option == \"yes\":\n",
    "        cv2.imwrite(\"sobel_edges.jpg\", np.uint8(sobel_edges))\n",
    "        cv2.imwrite(\"laplacian_edges.jpg\", np.uint8(laplacian_edges))\n",
    "        cv2.imwrite(\"canny_edges.jpg\", canny_edges)\n",
    "        print(\"Processed images saved successfully!\")\n",
    "\n",
    "    cv2.waitKey(0)\n",
    "    cv2.destroyAllWindows()\n",
    "\n",
    "if __name__ == \"__main__\":\n",
    "    main()\n"
   ]
  }
 ],
 "metadata": {
  "kernelspec": {
   "display_name": "Python 3",
   "language": "python",
   "name": "python3"
  },
  "language_info": {
   "codemirror_mode": {
    "name": "ipython",
    "version": 3
   },
   "file_extension": ".py",
   "mimetype": "text/x-python",
   "name": "python",
   "nbconvert_exporter": "python",
   "pygments_lexer": "ipython3",
   "version": "3.10.0"
  }
 },
 "nbformat": 4,
 "nbformat_minor": 2
}
