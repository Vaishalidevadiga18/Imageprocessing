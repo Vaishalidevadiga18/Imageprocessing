{
 "cells": [
  {
   "cell_type": "code",
   "execution_count": null,
   "metadata": {},
   "outputs": [
    {
     "name": "stdout",
     "output_type": "stream",
     "text": [
      "Images saved successfully!\n"
     ]
    }
   ],
   "source": [
    "import cv2\n",
    "import numpy as np\n",
    "\n",
    "def load_image(path):\n",
    "    image = cv2.imread(path)\n",
    "    if image is None:\n",
    "        print(\"Error: Could not load image\")\n",
    "        exit()\n",
    "    return image\n",
    "\n",
    "def translate_image(image, tx, ty):\n",
    "    rows, cols = image.shape[:2]\n",
    "    translation_matrix = np.float32([[1, 0, tx], [0, 1, ty]])\n",
    "    translated_image = cv2.warpAffine(image, translation_matrix, (cols, rows))\n",
    "    return translated_image\n",
    "\n",
    "def rotate_image(image, angle, scale=1.0):\n",
    "    rows, cols = image.shape[:2]\n",
    "    center = (cols // 2, rows // 2)\n",
    "    rotation_matrix = cv2.getRotationMatrix2D(center, angle, scale)\n",
    "    rotated_image = cv2.warpAffine(image, rotation_matrix, (cols, rows))\n",
    "    return rotated_image\n",
    "\n",
    "def scale_image(image, scale_x, scale_y):\n",
    "    scaled_image = cv2.resize(image, None, fx=scale_x, fy=scale_y, interpolation=cv2.INTER_LINEAR)\n",
    "    return scaled_image\n",
    "\n",
    "def main():\n",
    "    image_path = input(\"Enter the image path: \")\n",
    "    image = load_image(image_path)\n",
    "\n",
    "    tx = int(input(\"Enter translation in x direction: \"))\n",
    "    ty = int(input(\"Enter translation in y direction: \"))\n",
    "    angle = float(input(\"Enter rotation angle: \"))\n",
    "    scale_x = float(input(\"Enter scaling factor for x: \"))\n",
    "    scale_y = float(input(\"Enter scaling factor for y: \"))\n",
    "\n",
    "    translated = translate_image(image, tx, ty)\n",
    "    rotated = rotate_image(image, angle, 1.0)\n",
    "    scaled = scale_image(image, scale_x, scale_y)\n",
    "\n",
    "    cv2.imshow('Original Image', image)\n",
    "    cv2.imshow('Translated Image', translated)\n",
    "    cv2.imshow('Rotated Image', rotated)\n",
    "    cv2.imshow('Scaled Image', scaled)\n",
    "\n",
    "    save_option = input('Do you want to save the transformed images? (yes/no): ').strip().lower()\n",
    "    if save_option == 'yes':\n",
    "        cv2.imwrite('translated_image.jpg', translated)\n",
    "        cv2.imwrite('rotated_image.jpg', rotated)\n",
    "        cv2.imwrite('scaled_image.jpg', scaled)\n",
    "        print('Images saved successfully!')\n",
    "\n",
    "    cv2.waitKey(0)\n",
    "    cv2.destroyAllWindows()\n",
    "\n",
    "if __name__ == '__main__':\n",
    "    main()\n"
   ]
  }
 ],
 "metadata": {
  "kernelspec": {
   "display_name": "Python 3",
   "language": "python",
   "name": "python3"
  },
  "language_info": {
   "codemirror_mode": {
    "name": "ipython",
    "version": 3
   },
   "file_extension": ".py",
   "mimetype": "text/x-python",
   "name": "python",
   "nbconvert_exporter": "python",
   "pygments_lexer": "ipython3",
   "version": "3.10.0"
  }
 },
 "nbformat": 4,
 "nbformat_minor": 2
}
